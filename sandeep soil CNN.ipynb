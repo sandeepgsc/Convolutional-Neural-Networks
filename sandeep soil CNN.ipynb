{
 "cells": [
  {
   "cell_type": "code",
   "execution_count": 86,
   "id": "3b4d7a8e",
   "metadata": {},
   "outputs": [],
   "source": [
    "import numpy as np\n",
    "import pandas as pd\n",
    "import matplotlib.pyplot as plt\n",
    "import seaborn as sns\n",
    "%matplotlib inline"
   ]
  },
  {
   "cell_type": "code",
   "execution_count": 87,
   "id": "e4787bab",
   "metadata": {},
   "outputs": [],
   "source": [
    "import tensorflow as tf\n",
    "from tensorflow import keras\n",
    "\n",
    "from tensorflow.keras.layers import Dense,Flatten,Conv2D,MaxPool2D,Activation,Dropout\n",
    "from tensorflow.keras.optimizers import Adadelta,Adagrad,Adam,RMSprop\n",
    "from tensorflow.keras.activations import sigmoid,relu,softmax\n",
    "from tensorflow.keras.preprocessing.image import ImageDataGenerator"
   ]
  },
  {
   "cell_type": "code",
   "execution_count": 88,
   "id": "7a33ec32",
   "metadata": {},
   "outputs": [],
   "source": [
    "from tensorflow.keras import Sequential"
   ]
  },
  {
   "cell_type": "code",
   "execution_count": 89,
   "id": "cc3d2948",
   "metadata": {},
   "outputs": [],
   "source": [
    "path='H:\\\\soil-detection-using-CNN-main\\\\Soil types'"
   ]
  },
  {
   "cell_type": "code",
   "execution_count": 90,
   "id": "0feb4682",
   "metadata": {},
   "outputs": [],
   "source": [
    "from glob import glob"
   ]
  },
  {
   "cell_type": "code",
   "execution_count": 91,
   "id": "4345cc7c",
   "metadata": {},
   "outputs": [
    {
     "data": {
      "text/plain": [
       "['H:\\\\soil-detection-using-CNN-main\\\\Soil types\\\\test',\n",
       " 'H:\\\\soil-detection-using-CNN-main\\\\Soil types\\\\train']"
      ]
     },
     "execution_count": 91,
     "metadata": {},
     "output_type": "execute_result"
    }
   ],
   "source": [
    "glob('H:\\\\soil-detection-using-CNN-main\\\\Soil types\\\\*')"
   ]
  },
  {
   "cell_type": "code",
   "execution_count": 92,
   "id": "f350921a",
   "metadata": {},
   "outputs": [],
   "source": [
    "train_path='H:\\\\soil-detection-using-CNN-main\\\\Soil types\\\\train'\n",
    "test_path='H:\\\\soil-detection-using-CNN-main\\\\Soil types\\\\test'"
   ]
  },
  {
   "cell_type": "code",
   "execution_count": 93,
   "id": "9ea8172b",
   "metadata": {},
   "outputs": [],
   "source": [
    "img_width,img_height=150,150"
   ]
  },
  {
   "cell_type": "code",
   "execution_count": 94,
   "id": "c06b8f1c",
   "metadata": {},
   "outputs": [],
   "source": [
    "labels=['Black Soil','Cinder Soil','Laterite Soil','Peat Soil','Yellow Soil']"
   ]
  },
  {
   "cell_type": "code",
   "execution_count": 95,
   "id": "799f0889",
   "metadata": {},
   "outputs": [],
   "source": [
    "reg_train=ImageDataGenerator(rescale=1./250,rotation_range=0.2,zoom_range=0.2,horizontal_flip=True,vertical_flip=True)\n",
    "reg_test=ImageDataGenerator(rescale=1./250)"
   ]
  },
  {
   "cell_type": "code",
   "execution_count": 96,
   "id": "a21e215b",
   "metadata": {},
   "outputs": [
    {
     "name": "stdout",
     "output_type": "stream",
     "text": [
      "Found 116 images belonging to 5 classes.\n",
      "Found 40 images belonging to 5 classes.\n"
     ]
    }
   ],
   "source": [
    "train=reg_train.flow_from_directory(train_path,target_size=(150,150),class_mode='categorical',batch_size=32,classes=labels)\n",
    "test=reg_test.flow_from_directory(test_path,target_size=(150,150),class_mode='categorical',batch_size=32,classes=labels)"
   ]
  },
  {
   "cell_type": "code",
   "execution_count": 97,
   "id": "57bd3484",
   "metadata": {},
   "outputs": [],
   "source": [
    "model=Sequential()"
   ]
  },
  {
   "cell_type": "code",
   "execution_count": 98,
   "id": "433741da",
   "metadata": {},
   "outputs": [],
   "source": [
    "model = Sequential()\n",
    "model.add(Conv2D(128,kernel_size=(3,3),input_shape=(150,150,3),padding='same',activation='relu'))\n",
    "model.add(MaxPool2D(pool_size=(2,2)))\n",
    "model.add(Conv2D(64,kernel_size=(3,3),padding='same',activation='relu'))\n",
    "model.add(MaxPool2D(pool_size=(2,2)))\n",
    "model.add(Dropout(0.2))\n",
    "model.add(Conv2D(32,kernel_size=(3,3),padding='same',activation='relu'))\n",
    "model.add(MaxPool2D(pool_size=(2,2)))\n",
    "model.add(Dropout(0.2))\n",
    "model.add(Dense(32,activation='relu'))\n",
    "model.add(Flatten())\n",
    "model.add(Dense(32,activation='relu'))\n",
    "model.add(Dense(5,activation='softmax'))"
   ]
  },
  {
   "cell_type": "markdown",
   "id": "668f1ec3",
   "metadata": {},
   "source": [
    "model.add(Conv2D(128,kernel_size=(3,3),input_shape=(img_height,img_width,3),padding='same',activation='relu'))\n",
    "model.add(MaxPool2D(pool_size=(2,2)))\n",
    "model.add(Conv2D(64,kernel_size=(3,3),input_shape=(150,150,3),padding='same',activation='relu'))\n",
    "model.add(Dropout(0.4))\n",
    "model.add(Conv2D(32,kernel_size=(3,3),input_shape=(150,150,3),padding='same',activation='relu'))\n",
    "model.add(MaxPool2D(pool_size=(2,2)))\n",
    "model.add(Conv2D(16,kernel_size=(3,3),input_shape=(150,150,3),padding='same',activation='relu'))\n",
    "model.add(Dense(16,activation='relu'))\n",
    "model.add(Flatten())\n",
    "model.add(Dense(16,activation='relu'))\n",
    "model.add(Dense(5,activation='softmax'))"
   ]
  },
  {
   "cell_type": "code",
   "execution_count": 73,
   "id": "c8395d80",
   "metadata": {},
   "outputs": [
    {
     "name": "stdout",
     "output_type": "stream",
     "text": [
      "Model: \"sequential_3\"\n",
      "_________________________________________________________________\n",
      "Layer (type)                 Output Shape              Param #   \n",
      "=================================================================\n",
      "conv2d_13 (Conv2D)           (None, 150, 150, 128)     3584      \n",
      "_________________________________________________________________\n",
      "max_pooling2d_8 (MaxPooling2 (None, 75, 75, 128)       0         \n",
      "_________________________________________________________________\n",
      "conv2d_14 (Conv2D)           (None, 75, 75, 64)        73792     \n",
      "_________________________________________________________________\n",
      "max_pooling2d_9 (MaxPooling2 (None, 37, 37, 64)        0         \n",
      "_________________________________________________________________\n",
      "dropout_3 (Dropout)          (None, 37, 37, 64)        0         \n",
      "_________________________________________________________________\n",
      "conv2d_15 (Conv2D)           (None, 37, 37, 32)        18464     \n",
      "_________________________________________________________________\n",
      "max_pooling2d_10 (MaxPooling (None, 18, 18, 32)        0         \n",
      "_________________________________________________________________\n",
      "dropout_4 (Dropout)          (None, 18, 18, 32)        0         \n",
      "_________________________________________________________________\n",
      "dense_6 (Dense)              (None, 18, 18, 32)        1056      \n",
      "_________________________________________________________________\n",
      "flatten_2 (Flatten)          (None, 10368)             0         \n",
      "_________________________________________________________________\n",
      "dense_7 (Dense)              (None, 32)                331808    \n",
      "_________________________________________________________________\n",
      "dense_8 (Dense)              (None, 5)                 165       \n",
      "=================================================================\n",
      "Total params: 428,869\n",
      "Trainable params: 428,869\n",
      "Non-trainable params: 0\n",
      "_________________________________________________________________\n"
     ]
    }
   ],
   "source": [
    "model.summary()"
   ]
  },
  {
   "cell_type": "code",
   "execution_count": 74,
   "id": "810f52d1",
   "metadata": {},
   "outputs": [],
   "source": [
    "model.compile(optimizer='adam',loss='categorical_crossentropy',metrics=['categorical_accuracy'])"
   ]
  },
  {
   "cell_type": "code",
   "execution_count": 75,
   "id": "ce5a077b",
   "metadata": {
    "scrolled": true
   },
   "outputs": [
    {
     "name": "stdout",
     "output_type": "stream",
     "text": [
      "Epoch 1/15\n",
      "4/4 [==============================] - 11s 3s/step - loss: 1.6686 - categorical_accuracy: 0.1466 - val_loss: 1.6113 - val_categorical_accuracy: 0.2000\n",
      "Epoch 2/15\n",
      "4/4 [==============================] - 18s 5s/step - loss: 1.6058 - categorical_accuracy: 0.3190 - val_loss: 1.5959 - val_categorical_accuracy: 0.2250\n",
      "Epoch 3/15\n",
      "4/4 [==============================] - 20s 5s/step - loss: 1.5790 - categorical_accuracy: 0.2241 - val_loss: 1.5364 - val_categorical_accuracy: 0.2750\n",
      "Epoch 4/15\n",
      "4/4 [==============================] - 19s 5s/step - loss: 1.4569 - categorical_accuracy: 0.2759 - val_loss: 1.3497 - val_categorical_accuracy: 0.4500\n",
      "Epoch 5/15\n",
      "4/4 [==============================] - 19s 5s/step - loss: 1.2032 - categorical_accuracy: 0.4914 - val_loss: 1.1759 - val_categorical_accuracy: 0.4250\n",
      "Epoch 6/15\n",
      "4/4 [==============================] - 18s 5s/step - loss: 1.1457 - categorical_accuracy: 0.3534 - val_loss: 1.0311 - val_categorical_accuracy: 0.4250\n",
      "Epoch 7/15\n",
      "4/4 [==============================] - 14s 3s/step - loss: 1.0590 - categorical_accuracy: 0.4914 - val_loss: 1.0476 - val_categorical_accuracy: 0.4750\n",
      "Epoch 8/15\n",
      "4/4 [==============================] - 20s 5s/step - loss: 0.9365 - categorical_accuracy: 0.5000 - val_loss: 1.0244 - val_categorical_accuracy: 0.4500\n",
      "Epoch 9/15\n",
      "4/4 [==============================] - 14s 3s/step - loss: 0.9701 - categorical_accuracy: 0.4397 - val_loss: 0.9603 - val_categorical_accuracy: 0.5000\n",
      "Epoch 10/15\n",
      "4/4 [==============================] - 18s 4s/step - loss: 0.9128 - categorical_accuracy: 0.5259 - val_loss: 0.9927 - val_categorical_accuracy: 0.4500\n",
      "Epoch 11/15\n",
      "4/4 [==============================] - 18s 4s/step - loss: 0.8726 - categorical_accuracy: 0.5862 - val_loss: 0.9220 - val_categorical_accuracy: 0.5500\n",
      "Epoch 12/15\n",
      "4/4 [==============================] - 18s 5s/step - loss: 0.8318 - categorical_accuracy: 0.6121 - val_loss: 0.8383 - val_categorical_accuracy: 0.6000\n",
      "Epoch 13/15\n",
      "4/4 [==============================] - 15s 4s/step - loss: 0.8189 - categorical_accuracy: 0.5690 - val_loss: 0.8290 - val_categorical_accuracy: 0.6000\n",
      "Epoch 14/15\n",
      "4/4 [==============================] - 13s 3s/step - loss: 0.8040 - categorical_accuracy: 0.5776 - val_loss: 1.1401 - val_categorical_accuracy: 0.5250\n",
      "Epoch 15/15\n",
      "4/4 [==============================] - 19s 5s/step - loss: 0.7230 - categorical_accuracy: 0.6207 - val_loss: 0.8881 - val_categorical_accuracy: 0.6000\n"
     ]
    },
    {
     "data": {
      "text/plain": [
       "<tensorflow.python.keras.callbacks.History at 0x1ed42ef5700>"
      ]
     },
     "execution_count": 75,
     "metadata": {},
     "output_type": "execute_result"
    }
   ],
   "source": [
    "model.fit(train,epochs=15,validation_data=test)"
   ]
  },
  {
   "cell_type": "code",
   "execution_count": 99,
   "id": "22049053",
   "metadata": {},
   "outputs": [],
   "source": [
    "from tensorflow.keras.preprocessing import image"
   ]
  },
  {
   "cell_type": "code",
   "execution_count": 114,
   "id": "f0dc550f",
   "metadata": {},
   "outputs": [],
   "source": [
    "def fun(path):\n",
    "    img_pred=image.load_img(path,target_size=(150,150)) #load image->1\n",
    "    img_pred=image.img_to_array(img_pred) #image to array->2\n",
    "    a=np.expand_dims(img_pred,axis=0) #expand the array->3\n",
    "    result=model.predict_classes(a) #predict in which class->4\n",
    "    prob=model.predict_proba(a) #probability of the category->5\n",
    "    print('result =',result)\n",
    "    print('probability =',prob)\n",
    "    if result[0]==0:\n",
    "        prediction='Black Soil'\n",
    "    elif result[0]==1:\n",
    "        prediction='Cinder Soil'\n",
    "    elif result[0]==2:\n",
    "        prediction=='Laterite Soil'\n",
    "    elif result[0]==3:\n",
    "        prediction='Peat Soil'\n",
    "    else:\n",
    "        prediction='Yellow Soil'\n",
    "    print('soil class = ',prediction)\n"
   ]
  },
  {
   "cell_type": "code",
   "execution_count": 115,
   "id": "8f49030e",
   "metadata": {},
   "outputs": [
    {
     "name": "stdout",
     "output_type": "stream",
     "text": [
      "result = [0]\n",
      "probability = [[9.9926656e-01 2.3008173e-18 2.1647336e-06 2.3606326e-05 7.0774287e-04]]\n",
      "soil class =  Black Soil\n"
     ]
    }
   ],
   "source": [
    "fun('H:\\\\soil-detection-using-CNN-main\\\\test_set\\\\24.jpg')"
   ]
  },
  {
   "cell_type": "code",
   "execution_count": 116,
   "id": "7803c6e2",
   "metadata": {},
   "outputs": [
    {
     "name": "stdout",
     "output_type": "stream",
     "text": [
      "result = [0]\n",
      "probability = [[5.7303494e-01 6.7229115e-15 1.1231131e-03 1.0275943e-01 3.2308257e-01]]\n",
      "soil class =  Black Soil\n"
     ]
    }
   ],
   "source": [
    "fun('H:\\\\soil-detection-using-CNN-main\\\\test_set\\\\31.jpg')"
   ]
  },
  {
   "cell_type": "code",
   "execution_count": 117,
   "id": "f67fa98e",
   "metadata": {},
   "outputs": [
    {
     "name": "stdout",
     "output_type": "stream",
     "text": [
      "result = [4]\n",
      "probability = [[1.8739976e-02 2.5980820e-19 2.0472130e-03 8.5891947e-02 8.9332086e-01]]\n",
      "soil class =  Yellow Soil\n"
     ]
    }
   ],
   "source": [
    "fun('H:\\\\soil-detection-using-CNN-main\\\\test_set\\\\27.jpg')"
   ]
  },
  {
   "cell_type": "code",
   "execution_count": 118,
   "id": "8f1de56b",
   "metadata": {},
   "outputs": [
    {
     "name": "stdout",
     "output_type": "stream",
     "text": [
      "result = [4]\n",
      "probability = [[2.6714601e-02 2.1206335e-12 1.1915192e-02 6.1947457e-02 8.9942271e-01]]\n",
      "soil class =  Yellow Soil\n"
     ]
    }
   ],
   "source": [
    "fun('H:\\\\soil-detection-using-CNN-main\\\\test_set\\\\10.jpg')"
   ]
  },
  {
   "cell_type": "code",
   "execution_count": null,
   "id": "0c8e320e",
   "metadata": {},
   "outputs": [],
   "source": []
  }
 ],
 "metadata": {
  "kernelspec": {
   "display_name": "Python 3",
   "language": "python",
   "name": "python3"
  },
  "language_info": {
   "codemirror_mode": {
    "name": "ipython",
    "version": 3
   },
   "file_extension": ".py",
   "mimetype": "text/x-python",
   "name": "python",
   "nbconvert_exporter": "python",
   "pygments_lexer": "ipython3",
   "version": "3.8.8"
  }
 },
 "nbformat": 4,
 "nbformat_minor": 5
}
